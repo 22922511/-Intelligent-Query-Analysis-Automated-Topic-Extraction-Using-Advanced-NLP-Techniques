{
  "nbformat": 4,
  "nbformat_minor": 0,
  "metadata": {
    "colab": {
      "provenance": [],
      "mount_file_id": "1x0A4eDwyV0l_VdTCkCsdJAC7rgk4oV3Z",
      "authorship_tag": "ABX9TyNXzuesKPp9ayFhbkx8g/bd",
      "include_colab_link": true
    },
    "kernelspec": {
      "name": "python3",
      "display_name": "Python 3"
    },
    "language_info": {
      "name": "python"
    }
  },
  "cells": [
    {
      "cell_type": "markdown",
      "metadata": {
        "id": "view-in-github",
        "colab_type": "text"
      },
      "source": [
        "<a href=\"https://colab.research.google.com/github/22922511/-Intelligent-Query-Analysis-Automated-Topic-Extraction-Using-Advanced-NLP-Techniques/blob/main/IMP_question_java_project.ipynb\" target=\"_parent\"><img src=\"https://colab.research.google.com/assets/colab-badge.svg\" alt=\"Open In Colab\"/></a>"
      ]
    },
    {
      "cell_type": "markdown",
      "source": [
        "## **Intelligent-Query-Analysis-Automated-Topic-Extraction-Using-NLP-Techniques**"
      ],
      "metadata": {
        "id": "rVAhu_jEIdbh"
      }
    },
    {
      "cell_type": "code",
      "execution_count": 81,
      "metadata": {
        "colab": {
          "base_uri": "https://localhost:8080/"
        },
        "id": "YxCWjjDw7wDQ",
        "outputId": "cc12579f-e749-44ac-e161-1e4a53ea46e3"
      },
      "outputs": [
        {
          "output_type": "stream",
          "name": "stdout",
          "text": [
            "Requirement already satisfied: PyPDF2 in /usr/local/lib/python3.10/dist-packages (3.0.1)\n"
          ]
        },
        {
          "output_type": "stream",
          "name": "stderr",
          "text": [
            "[nltk_data] Downloading package stopwords to /root/nltk_data...\n",
            "[nltk_data]   Package stopwords is already up-to-date!\n"
          ]
        }
      ],
      "source": [
        "from nltk.corpus import stopwords\n",
        "!pip install PyPDF2\n",
        "import pandas as pd\n",
        "import nltk\n",
        "nltk.download('stopwords')\n",
        "\n",
        "import re"
      ]
    },
    {
      "cell_type": "code",
      "source": [
        "adjective=pd.read_csv(r\"/content/adjective.csv\")"
      ],
      "metadata": {
        "id": "nWYsIbw8Ekb4"
      },
      "execution_count": 64,
      "outputs": []
    },
    {
      "cell_type": "code",
      "source": [
        "adjective"
      ],
      "metadata": {
        "colab": {
          "base_uri": "https://localhost:8080/",
          "height": 423
        },
        "id": "r5k-BiCGEwGM",
        "outputId": "8f7b83ed-6135-4ae0-c0a5-8b38208b9788"
      },
      "execution_count": 44,
      "outputs": [
        {
          "output_type": "execute_result",
          "data": {
            "text/plain": [
              "         adjectives\n",
              "0         abactinal\n",
              "1         abandoned\n",
              "2           abashed\n",
              "3            abasic\n",
              "4          abatable\n",
              "...             ...\n",
              "17750  zygomorphous\n",
              "17751       zygotic\n",
              "17752        zymoid\n",
              "17753     zymolytic\n",
              "17754       zymotic\n",
              "\n",
              "[17755 rows x 1 columns]"
            ],
            "text/html": [
              "\n",
              "  <div id=\"df-32a5f784-1ad4-41b2-8fa4-908232ba7e78\" class=\"colab-df-container\">\n",
              "    <div>\n",
              "<style scoped>\n",
              "    .dataframe tbody tr th:only-of-type {\n",
              "        vertical-align: middle;\n",
              "    }\n",
              "\n",
              "    .dataframe tbody tr th {\n",
              "        vertical-align: top;\n",
              "    }\n",
              "\n",
              "    .dataframe thead th {\n",
              "        text-align: right;\n",
              "    }\n",
              "</style>\n",
              "<table border=\"1\" class=\"dataframe\">\n",
              "  <thead>\n",
              "    <tr style=\"text-align: right;\">\n",
              "      <th></th>\n",
              "      <th>adjectives</th>\n",
              "    </tr>\n",
              "  </thead>\n",
              "  <tbody>\n",
              "    <tr>\n",
              "      <th>0</th>\n",
              "      <td>abactinal</td>\n",
              "    </tr>\n",
              "    <tr>\n",
              "      <th>1</th>\n",
              "      <td>abandoned</td>\n",
              "    </tr>\n",
              "    <tr>\n",
              "      <th>2</th>\n",
              "      <td>abashed</td>\n",
              "    </tr>\n",
              "    <tr>\n",
              "      <th>3</th>\n",
              "      <td>abasic</td>\n",
              "    </tr>\n",
              "    <tr>\n",
              "      <th>4</th>\n",
              "      <td>abatable</td>\n",
              "    </tr>\n",
              "    <tr>\n",
              "      <th>...</th>\n",
              "      <td>...</td>\n",
              "    </tr>\n",
              "    <tr>\n",
              "      <th>17750</th>\n",
              "      <td>zygomorphous</td>\n",
              "    </tr>\n",
              "    <tr>\n",
              "      <th>17751</th>\n",
              "      <td>zygotic</td>\n",
              "    </tr>\n",
              "    <tr>\n",
              "      <th>17752</th>\n",
              "      <td>zymoid</td>\n",
              "    </tr>\n",
              "    <tr>\n",
              "      <th>17753</th>\n",
              "      <td>zymolytic</td>\n",
              "    </tr>\n",
              "    <tr>\n",
              "      <th>17754</th>\n",
              "      <td>zymotic</td>\n",
              "    </tr>\n",
              "  </tbody>\n",
              "</table>\n",
              "<p>17755 rows × 1 columns</p>\n",
              "</div>\n",
              "    <div class=\"colab-df-buttons\">\n",
              "\n",
              "  <div class=\"colab-df-container\">\n",
              "    <button class=\"colab-df-convert\" onclick=\"convertToInteractive('df-32a5f784-1ad4-41b2-8fa4-908232ba7e78')\"\n",
              "            title=\"Convert this dataframe to an interactive table.\"\n",
              "            style=\"display:none;\">\n",
              "\n",
              "  <svg xmlns=\"http://www.w3.org/2000/svg\" height=\"24px\" viewBox=\"0 -960 960 960\">\n",
              "    <path d=\"M120-120v-720h720v720H120Zm60-500h600v-160H180v160Zm220 220h160v-160H400v160Zm0 220h160v-160H400v160ZM180-400h160v-160H180v160Zm440 0h160v-160H620v160ZM180-180h160v-160H180v160Zm440 0h160v-160H620v160Z\"/>\n",
              "  </svg>\n",
              "    </button>\n",
              "\n",
              "  <style>\n",
              "    .colab-df-container {\n",
              "      display:flex;\n",
              "      gap: 12px;\n",
              "    }\n",
              "\n",
              "    .colab-df-convert {\n",
              "      background-color: #E8F0FE;\n",
              "      border: none;\n",
              "      border-radius: 50%;\n",
              "      cursor: pointer;\n",
              "      display: none;\n",
              "      fill: #1967D2;\n",
              "      height: 32px;\n",
              "      padding: 0 0 0 0;\n",
              "      width: 32px;\n",
              "    }\n",
              "\n",
              "    .colab-df-convert:hover {\n",
              "      background-color: #E2EBFA;\n",
              "      box-shadow: 0px 1px 2px rgba(60, 64, 67, 0.3), 0px 1px 3px 1px rgba(60, 64, 67, 0.15);\n",
              "      fill: #174EA6;\n",
              "    }\n",
              "\n",
              "    .colab-df-buttons div {\n",
              "      margin-bottom: 4px;\n",
              "    }\n",
              "\n",
              "    [theme=dark] .colab-df-convert {\n",
              "      background-color: #3B4455;\n",
              "      fill: #D2E3FC;\n",
              "    }\n",
              "\n",
              "    [theme=dark] .colab-df-convert:hover {\n",
              "      background-color: #434B5C;\n",
              "      box-shadow: 0px 1px 3px 1px rgba(0, 0, 0, 0.15);\n",
              "      filter: drop-shadow(0px 1px 2px rgba(0, 0, 0, 0.3));\n",
              "      fill: #FFFFFF;\n",
              "    }\n",
              "  </style>\n",
              "\n",
              "    <script>\n",
              "      const buttonEl =\n",
              "        document.querySelector('#df-32a5f784-1ad4-41b2-8fa4-908232ba7e78 button.colab-df-convert');\n",
              "      buttonEl.style.display =\n",
              "        google.colab.kernel.accessAllowed ? 'block' : 'none';\n",
              "\n",
              "      async function convertToInteractive(key) {\n",
              "        const element = document.querySelector('#df-32a5f784-1ad4-41b2-8fa4-908232ba7e78');\n",
              "        const dataTable =\n",
              "          await google.colab.kernel.invokeFunction('convertToInteractive',\n",
              "                                                    [key], {});\n",
              "        if (!dataTable) return;\n",
              "\n",
              "        const docLinkHtml = 'Like what you see? Visit the ' +\n",
              "          '<a target=\"_blank\" href=https://colab.research.google.com/notebooks/data_table.ipynb>data table notebook</a>'\n",
              "          + ' to learn more about interactive tables.';\n",
              "        element.innerHTML = '';\n",
              "        dataTable['output_type'] = 'display_data';\n",
              "        await google.colab.output.renderOutput(dataTable, element);\n",
              "        const docLink = document.createElement('div');\n",
              "        docLink.innerHTML = docLinkHtml;\n",
              "        element.appendChild(docLink);\n",
              "      }\n",
              "    </script>\n",
              "  </div>\n",
              "\n",
              "\n",
              "<div id=\"df-1c252ebd-2da1-4095-88a9-e3620c9d9b6a\">\n",
              "  <button class=\"colab-df-quickchart\" onclick=\"quickchart('df-1c252ebd-2da1-4095-88a9-e3620c9d9b6a')\"\n",
              "            title=\"Suggest charts\"\n",
              "            style=\"display:none;\">\n",
              "\n",
              "<svg xmlns=\"http://www.w3.org/2000/svg\" height=\"24px\"viewBox=\"0 0 24 24\"\n",
              "     width=\"24px\">\n",
              "    <g>\n",
              "        <path d=\"M19 3H5c-1.1 0-2 .9-2 2v14c0 1.1.9 2 2 2h14c1.1 0 2-.9 2-2V5c0-1.1-.9-2-2-2zM9 17H7v-7h2v7zm4 0h-2V7h2v10zm4 0h-2v-4h2v4z\"/>\n",
              "    </g>\n",
              "</svg>\n",
              "  </button>\n",
              "\n",
              "<style>\n",
              "  .colab-df-quickchart {\n",
              "      --bg-color: #E8F0FE;\n",
              "      --fill-color: #1967D2;\n",
              "      --hover-bg-color: #E2EBFA;\n",
              "      --hover-fill-color: #174EA6;\n",
              "      --disabled-fill-color: #AAA;\n",
              "      --disabled-bg-color: #DDD;\n",
              "  }\n",
              "\n",
              "  [theme=dark] .colab-df-quickchart {\n",
              "      --bg-color: #3B4455;\n",
              "      --fill-color: #D2E3FC;\n",
              "      --hover-bg-color: #434B5C;\n",
              "      --hover-fill-color: #FFFFFF;\n",
              "      --disabled-bg-color: #3B4455;\n",
              "      --disabled-fill-color: #666;\n",
              "  }\n",
              "\n",
              "  .colab-df-quickchart {\n",
              "    background-color: var(--bg-color);\n",
              "    border: none;\n",
              "    border-radius: 50%;\n",
              "    cursor: pointer;\n",
              "    display: none;\n",
              "    fill: var(--fill-color);\n",
              "    height: 32px;\n",
              "    padding: 0;\n",
              "    width: 32px;\n",
              "  }\n",
              "\n",
              "  .colab-df-quickchart:hover {\n",
              "    background-color: var(--hover-bg-color);\n",
              "    box-shadow: 0 1px 2px rgba(60, 64, 67, 0.3), 0 1px 3px 1px rgba(60, 64, 67, 0.15);\n",
              "    fill: var(--button-hover-fill-color);\n",
              "  }\n",
              "\n",
              "  .colab-df-quickchart-complete:disabled,\n",
              "  .colab-df-quickchart-complete:disabled:hover {\n",
              "    background-color: var(--disabled-bg-color);\n",
              "    fill: var(--disabled-fill-color);\n",
              "    box-shadow: none;\n",
              "  }\n",
              "\n",
              "  .colab-df-spinner {\n",
              "    border: 2px solid var(--fill-color);\n",
              "    border-color: transparent;\n",
              "    border-bottom-color: var(--fill-color);\n",
              "    animation:\n",
              "      spin 1s steps(1) infinite;\n",
              "  }\n",
              "\n",
              "  @keyframes spin {\n",
              "    0% {\n",
              "      border-color: transparent;\n",
              "      border-bottom-color: var(--fill-color);\n",
              "      border-left-color: var(--fill-color);\n",
              "    }\n",
              "    20% {\n",
              "      border-color: transparent;\n",
              "      border-left-color: var(--fill-color);\n",
              "      border-top-color: var(--fill-color);\n",
              "    }\n",
              "    30% {\n",
              "      border-color: transparent;\n",
              "      border-left-color: var(--fill-color);\n",
              "      border-top-color: var(--fill-color);\n",
              "      border-right-color: var(--fill-color);\n",
              "    }\n",
              "    40% {\n",
              "      border-color: transparent;\n",
              "      border-right-color: var(--fill-color);\n",
              "      border-top-color: var(--fill-color);\n",
              "    }\n",
              "    60% {\n",
              "      border-color: transparent;\n",
              "      border-right-color: var(--fill-color);\n",
              "    }\n",
              "    80% {\n",
              "      border-color: transparent;\n",
              "      border-right-color: var(--fill-color);\n",
              "      border-bottom-color: var(--fill-color);\n",
              "    }\n",
              "    90% {\n",
              "      border-color: transparent;\n",
              "      border-bottom-color: var(--fill-color);\n",
              "    }\n",
              "  }\n",
              "</style>\n",
              "\n",
              "  <script>\n",
              "    async function quickchart(key) {\n",
              "      const quickchartButtonEl =\n",
              "        document.querySelector('#' + key + ' button');\n",
              "      quickchartButtonEl.disabled = true;  // To prevent multiple clicks.\n",
              "      quickchartButtonEl.classList.add('colab-df-spinner');\n",
              "      try {\n",
              "        const charts = await google.colab.kernel.invokeFunction(\n",
              "            'suggestCharts', [key], {});\n",
              "      } catch (error) {\n",
              "        console.error('Error during call to suggestCharts:', error);\n",
              "      }\n",
              "      quickchartButtonEl.classList.remove('colab-df-spinner');\n",
              "      quickchartButtonEl.classList.add('colab-df-quickchart-complete');\n",
              "    }\n",
              "    (() => {\n",
              "      let quickchartButtonEl =\n",
              "        document.querySelector('#df-1c252ebd-2da1-4095-88a9-e3620c9d9b6a button');\n",
              "      quickchartButtonEl.style.display =\n",
              "        google.colab.kernel.accessAllowed ? 'block' : 'none';\n",
              "    })();\n",
              "  </script>\n",
              "</div>\n",
              "\n",
              "  <div id=\"id_27fb6862-8576-41c1-b0e0-7a576324a934\">\n",
              "    <style>\n",
              "      .colab-df-generate {\n",
              "        background-color: #E8F0FE;\n",
              "        border: none;\n",
              "        border-radius: 50%;\n",
              "        cursor: pointer;\n",
              "        display: none;\n",
              "        fill: #1967D2;\n",
              "        height: 32px;\n",
              "        padding: 0 0 0 0;\n",
              "        width: 32px;\n",
              "      }\n",
              "\n",
              "      .colab-df-generate:hover {\n",
              "        background-color: #E2EBFA;\n",
              "        box-shadow: 0px 1px 2px rgba(60, 64, 67, 0.3), 0px 1px 3px 1px rgba(60, 64, 67, 0.15);\n",
              "        fill: #174EA6;\n",
              "      }\n",
              "\n",
              "      [theme=dark] .colab-df-generate {\n",
              "        background-color: #3B4455;\n",
              "        fill: #D2E3FC;\n",
              "      }\n",
              "\n",
              "      [theme=dark] .colab-df-generate:hover {\n",
              "        background-color: #434B5C;\n",
              "        box-shadow: 0px 1px 3px 1px rgba(0, 0, 0, 0.15);\n",
              "        filter: drop-shadow(0px 1px 2px rgba(0, 0, 0, 0.3));\n",
              "        fill: #FFFFFF;\n",
              "      }\n",
              "    </style>\n",
              "    <button class=\"colab-df-generate\" onclick=\"generateWithVariable('adjective')\"\n",
              "            title=\"Generate code using this dataframe.\"\n",
              "            style=\"display:none;\">\n",
              "\n",
              "  <svg xmlns=\"http://www.w3.org/2000/svg\" height=\"24px\"viewBox=\"0 0 24 24\"\n",
              "       width=\"24px\">\n",
              "    <path d=\"M7,19H8.4L18.45,9,17,7.55,7,17.6ZM5,21V16.75L18.45,3.32a2,2,0,0,1,2.83,0l1.4,1.43a1.91,1.91,0,0,1,.58,1.4,1.91,1.91,0,0,1-.58,1.4L9.25,21ZM18.45,9,17,7.55Zm-12,3A5.31,5.31,0,0,0,4.9,8.1,5.31,5.31,0,0,0,1,6.5,5.31,5.31,0,0,0,4.9,4.9,5.31,5.31,0,0,0,6.5,1,5.31,5.31,0,0,0,8.1,4.9,5.31,5.31,0,0,0,12,6.5,5.46,5.46,0,0,0,6.5,12Z\"/>\n",
              "  </svg>\n",
              "    </button>\n",
              "    <script>\n",
              "      (() => {\n",
              "      const buttonEl =\n",
              "        document.querySelector('#id_27fb6862-8576-41c1-b0e0-7a576324a934 button.colab-df-generate');\n",
              "      buttonEl.style.display =\n",
              "        google.colab.kernel.accessAllowed ? 'block' : 'none';\n",
              "\n",
              "      buttonEl.onclick = () => {\n",
              "        google.colab.notebook.generateWithVariable('adjective');\n",
              "      }\n",
              "      })();\n",
              "    </script>\n",
              "  </div>\n",
              "\n",
              "    </div>\n",
              "  </div>\n"
            ],
            "application/vnd.google.colaboratory.intrinsic+json": {
              "type": "dataframe",
              "variable_name": "adjective",
              "summary": "{\n  \"name\": \"adjective\",\n  \"rows\": 17755,\n  \"fields\": [\n    {\n      \"column\": \"adjectives\",\n      \"properties\": {\n        \"dtype\": \"string\",\n        \"num_unique_values\": 17754,\n        \"samples\": [\n          \"epical\",\n          \"negro\",\n          \"undulant\"\n        ],\n        \"semantic_type\": \"\",\n        \"description\": \"\"\n      }\n    }\n  ]\n}"
            }
          },
          "metadata": {},
          "execution_count": 44
        }
      ]
    },
    {
      "cell_type": "markdown",
      "source": [
        "## **PDF TO TEXT**"
      ],
      "metadata": {
        "id": "7ZBnKJag_th7"
      }
    },
    {
      "cell_type": "code",
      "source": [
        "import PyPDF2\n",
        "\n",
        "def pdf_to_text(pdf_path, output_txt):\n",
        "    # Open the PDF file in read-binary mode\n",
        "    with open(pdf_path, 'rb') as pdf_file:\n",
        "        # Create a PdfReader object instead of PdfFileReader\n",
        "        pdf_reader = PyPDF2.PdfReader(pdf_file)\n",
        "\n",
        "        # Initialize an empty string to store the text\n",
        "        text = ''\n",
        "\n",
        "        for page_num in range(len(pdf_reader.pages)):\n",
        "            page = pdf_reader.pages[page_num]\n",
        "            text += page.extract_text()\n",
        "\n",
        "    # Write the extracted text to a text file\n",
        "    with open(output_txt, 'w', encoding='utf-8') as txt_file:\n",
        "        txt_file.write(text)\n"
      ],
      "metadata": {
        "id": "WVHw6mqd9KBw"
      },
      "execution_count": 65,
      "outputs": []
    },
    {
      "cell_type": "markdown",
      "source": [
        "## **LOADING JAVA_CORPUS**"
      ],
      "metadata": {
        "id": "gHONIxi9GkH2"
      }
    },
    {
      "cell_type": "code",
      "source": [
        " txt=open(\"/content/java_language_corpus.txt\", \"r+\").read()\n",
        ""
      ],
      "metadata": {
        "id": "evpNPhhe9-Sx"
      },
      "execution_count": 66,
      "outputs": []
    },
    {
      "cell_type": "markdown",
      "source": [
        "## **REMOVING STOPWORDS AND ADJECTIVE ALSO FINDING UNIQUE WORD**"
      ],
      "metadata": {
        "id": "tg3Huxg5Gqdc"
      }
    },
    {
      "cell_type": "code",
      "source": [
        "def remove_stopwords_unique(txt):\n",
        "\n",
        "  #convert txt into lowercase\n",
        " corpus=txt.lower()\n",
        "\n",
        "  #find all text word\n",
        " all_word=re.findall(r'\\b\\w+\\b',corpus)\n",
        "\n",
        " all_word_without_stop=[]\n",
        " for word in all_word:\n",
        "  if word not in stopwords.words('english') and len(word) > 2 and word not in adjective:\n",
        "    all_word_without_stop.append(word)\n",
        " unique_word=list(set(all_word_without_stop))\n",
        " return unique_word\n",
        "\n",
        "def remove_stopwords_only(txt):\n",
        "\n",
        "  #convert txt into lowercase\n",
        "  corpus=txt.lower()\n",
        "\n",
        "  #find all text word\n",
        "  all_word=re.findall(r'\\b\\w+\\b',corpus)\n",
        "\n",
        "  all_word_without_stop=[]\n",
        "  for word in all_word:\n",
        "   if word not in stopwords.words('english') and len(word) >2:\n",
        "    all_word_without_stop.append(word)\n",
        "\n",
        "\n",
        "  return  all_word_without_stop\n"
      ],
      "metadata": {
        "id": "s-OAJMS_GR5J"
      },
      "execution_count": 67,
      "outputs": []
    },
    {
      "cell_type": "code",
      "source": [
        " java_corpus=remove_stopwords_unique(txt)"
      ],
      "metadata": {
        "id": "Cu5qR1x1GU09"
      },
      "execution_count": 68,
      "outputs": []
    },
    {
      "cell_type": "markdown",
      "source": [
        "##**READING USER PDF ANDCONVERTING TO TEXT FORMATE:)**"
      ],
      "metadata": {
        "id": "v8sqm91iG6yN"
      }
    },
    {
      "cell_type": "code",
      "source": [
        "# READING USER PDF\n",
        "pdf_to_text(\"/content/Java-Interview-Questions.pdf\", \"sample.txt\")\n",
        "\n",
        " # READING UNIQUE WORD FROM USER PDF\n",
        " test_word_unique=remove_stopwords_unique( open(\"/content/sample.txt\", \"r\").read())\n",
        "\n",
        "  # READING ALL WORD FROM USER PDF\n",
        "  test_word_all=remove_stopwords_only( open(\"/content/sample.txt\", \"r\").read())\n",
        "\n"
      ],
      "metadata": {
        "id": "Ml17of5PG-wO"
      },
      "execution_count": 69,
      "outputs": []
    },
    {
      "cell_type": "markdown",
      "source": [
        "## **LENGTH OF ALL WORD**"
      ],
      "metadata": {
        "id": "QA00MsqoHurZ"
      }
    },
    {
      "cell_type": "code",
      "source": [
        "len(test_word_unique)\n",
        "len(test_word_all)\n",
        "len(java_corpus)"
      ],
      "metadata": {
        "id": "LF0zu2i5LlmD",
        "colab": {
          "base_uri": "https://localhost:8080/"
        },
        "outputId": "b2c8676f-4582-497d-a821-3c53be481e33"
      },
      "execution_count": 70,
      "outputs": [
        {
          "output_type": "execute_result",
          "data": {
            "text/plain": [
              "1691"
            ]
          },
          "metadata": {},
          "execution_count": 70
        }
      ]
    },
    {
      "cell_type": "markdown",
      "source": [
        "## **FINDING THE DISTRI BUTION OF ALL WORD IN USER PDF**"
      ],
      "metadata": {
        "id": "KxmoDv9nHzu8"
      }
    },
    {
      "cell_type": "code",
      "source": [
        "count_distribution={word:0 for word in java_corpus}\n",
        "\n",
        "for word in test_word_all:\n",
        "  if word in count_distribution:\n",
        "    count_distribution[word]+=1"
      ],
      "metadata": {
        "id": "ENwkwcXuQMzZ"
      },
      "execution_count": 71,
      "outputs": []
    },
    {
      "cell_type": "markdown",
      "source": [
        "## **CONVERTING WORD DISTRIBUTION TO DATA FRAME USING PANDAS**"
      ],
      "metadata": {
        "id": "QT04pXHCH-JY"
      }
    },
    {
      "cell_type": "code",
      "source": [
        "df = pd.DataFrame(list(count_distribution.items()), columns=[\"word\", \"counts\"])"
      ],
      "metadata": {
        "id": "TNheLdeTQu5q"
      },
      "execution_count": 72,
      "outputs": []
    },
    {
      "cell_type": "markdown",
      "source": [
        "## **EXCRACTING IMPORTANT TOPIC FROM QUESTION PAPER THAT ARE FEEDED IN MODEL**"
      ],
      "metadata": {
        "id": "m7uT453NIKAc"
      }
    },
    {
      "cell_type": "code",
      "source": [
        "df[df[\"counts\"]>5].sort_values(by=\"counts\", ascending=False).head(100).word"
      ],
      "metadata": {
        "colab": {
          "base_uri": "https://localhost:8080/"
        },
        "id": "ZTzJhmwCQxSp",
        "outputId": "9d83a63d-aaa4-4f61-d95b-232d0dfa0dfa"
      },
      "execution_count": 79,
      "outputs": [
        {
          "output_type": "execute_result",
          "data": {
            "text/plain": [
              "200           java\n",
              "373     difference\n",
              "212            rmi\n",
              "1372       servlet\n",
              "1572        applet\n",
              "58         explain\n",
              "109          class\n",
              "555            jsp\n",
              "738         method\n",
              "982        garbage\n",
              "Name: word, dtype: object"
            ]
          },
          "metadata": {},
          "execution_count": 79
        }
      ]
    },
    {
      "cell_type": "code",
      "source": [],
      "metadata": {
        "id": "TwxeP8WnDntC"
      },
      "execution_count": 80,
      "outputs": []
    },
    {
      "cell_type": "code",
      "source": [],
      "metadata": {
        "id": "WtyJ8u-HJdGc"
      },
      "execution_count": null,
      "outputs": []
    }
  ]
}